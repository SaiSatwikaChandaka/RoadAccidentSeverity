{
 "cells": [
  {
   "cell_type": "markdown",
   "metadata": {
    "id": "QTRAbgqM6_tM"
   },
   "source": [
    "## Lab Assignment 01: KEY\n",
    "\n",
    " ## WARNING!\n",
    " Please note that the questions provided in this assignment are exclusively for your personal use in this course. You are strictly prohibited from distributing, sharing, or publishing these questions in any form or through any medium. This includes, but is not limited to, posting on websites, forums, social media platforms, or sharing with individuals not enrolled in this course. This measure is to ensure the integrity and educational value of the assignment for all students. Thank you for your cooperation and understanding.\n",
    "\n",
    "Dr. Levent Bulut\n",
    "\n",
    "## SUBMISSIONS INSTRUCTIONS:\n",
    "**Google Colab File**: Submit your coding work as a Jupyter notebook file. The file should be named in the following format: \"Lab01_LASTNAME_FIRSTINITIAL_SP24\". For example, if your name is Leo Bulut, the file name should be \"Lab01_Bulut_L_SP24\".\n",
    "\n",
    "**Word Document**: Submit a Word document with the same naming format as above. The Word document should only include your name at the top and your answers to each numbered question. Do not include the questions themselves in the document. Your name should be clearly written at the top of the document.\n",
    "\n",
    "Please be aware that including the questions in your Word document submission will result in a deduction of points. Ensure you adhere to these guidelines for proper submission.\n",
    "\n",
    "## Background\n",
    "* You are being tasked to make sense of bank data.  The dataset in this lab comes from a large financial services firm and includes data from account holders. It focuses on those with home equity lines of credit, auto loans, and other short- to medium-term credit products. The dataset, termed 'BANK01' is a little bit dirty and your job is to clean it.\n",
    "* A key aspect of the data is the target variable, which indicates the total new sales (INT_TGT).\n",
    "\n",
    "## Data Dictionary:\n",
    "#### Target Variable:\n",
    "* **INT_TGT**: New Sales  (Accepts only non-negative numbers, including zero or NA)\n",
    "\n",
    "#### Features:\n",
    "**RFM1**: Average Sales Past Three Years (Accepts only non-negative numbers, including zero or NA)  \n",
    "\n",
    "**RFM2**: Average Sales Lifetime (Accepts only non-negative numbers, including zero or NA)\n",
    "\n",
    "**RFM3**: Average Sales Past Three Years Dir Promo Resp (Accepts only non-negative numbers, including zero or NA)\n",
    "\n",
    "**RFM4**: Last Product Purchase Amount (Accepts only non-negative numbers, including zero or NA)\n",
    "\n",
    "**RFM5**: Count Purchased Past 3 Years (Accepts only non-negative numbers, including zero or NA)\n",
    "\n",
    "**RFM6**: Count Purchased Lifetime (Accepts only non-negative numbers, including zero or NA)\n",
    "\n",
    "**RFM7**: Count Purchased Past 3 Years Dir Promo Resp (Accepts only non-negative numbers, including zero or NA)\n",
    "\n",
    "**RFM8**: Count Purchased Lifetime Dir Promo Resp (Accepts only non-negative numbers, including zero or NA)\n",
    "\n",
    "**RFM9**: Months Since Last Purchase (Accepts only non-negative numbers, including zero or NA)\n",
    "\n",
    "**RFM10**: Count Total Promos Past Year (Accepts only non-negative numbers, including zero or NA)\n",
    "\n",
    "**RFM11**: Count Direct Promos Past Year (Accepts only non-negative numbers, including zero or NA)\n",
    "\n",
    "**RFM12**: Customer Tenure (Accepts only non-negative numbers, including zero or NA)\n",
    "\n",
    "**DEMOG_AGE**: Customer Age Customer Tenure (Accepts only non-negative numbers, including zero or NA. Extremely high age values, anything higher than 130, should be treated as data entry error.)\n",
    "\n",
    "**DEMOG_GENF**: Female Binary (yes/no)\n",
    "\n",
    "**DEMOG_GENM**: Male Binary (yes/no)\n",
    "\n",
    "**DEMOG_HO**: Homeowner Binary (yes/no)\n",
    "\n",
    "**DEMOG_HOMEVAL**: Home Value (Accepts only non-negative numbers, including zero or NA)\n",
    "\n",
    "**DEMOG_INC**: Income (Accepts only non-negative numbers, including zero or NA)\n",
    "\n",
    "**DEMOG_PR**: Percentage retired in the area (Accepts only non-negative numbers including zero or NA. The highest value is 100.)\n"
   ]
  },
  {
   "cell_type": "markdown",
   "metadata": {
    "id": "Mz6lnAJdReFQ"
   },
   "source": [
    "# Solve the \"Spoiled cat problem\"!\n",
    "\n",
    "The \"Spoiled Cat Problem\" is a complex challenge in data science, resembling an unpredictable, fickle cat. It involves sophisticated data cleaning and analysis, where datasets display confusing, nonlinear patterns. This long-standing scientific puzzle tests advanced data techniques and remains unsolved, symbolizing a quest for clarity in chaotic data.\n",
    "\n",
    "Well, it turns out that the \"Spoiled Cat Problem\" was actually a made up concept by your professor. It doesn't really exist. But, we might actually have a cat-related issue. The rumor has it, the only original copy of this dataset was left unattended while the person responsible for the the data collection stepped out for coffee. During this time, her mischievous cat, mistaking the computer mouse for a real one, ended up tampering with the dataset. If you don't believe me, you can consult your cat about such a scenario's likelihood! As a result, simple \"Yes\" responses may have turned into \"Yesssssss,\" and numerical entries could have been changed to negative or absurdly high values. So, as you work through the questions, please keep this peculiar situation in mind.\n",
    "\n",
    "\n",
    "\n"
   ]
  },
  {
   "cell_type": "markdown",
   "metadata": {
    "id": "pH_k8E8hRaAY"
   },
   "source": [
    "## Read data in Google Colab"
   ]
  },
  {
   "cell_type": "code",
   "execution_count": 2,
   "metadata": {
    "colab": {
     "base_uri": "https://localhost:8080/"
    },
    "id": "sbYPO394Q3gQ",
    "outputId": "dbec06ce-3007-4123-a154-c9620ea02d00"
   },
   "outputs": [],
   "source": [
    "# from google.colab import drive\n",
    "# drive.mount('/content/gdrive', force_remount=True)\n",
    "\n",
    "\n",
    "# from google.colab import data_table\n",
    "# data_table.enable_dataframe_formatter()\n",
    "\n",
    "\n"
   ]
  },
  {
   "cell_type": "markdown",
   "metadata": {
    "id": "WhuJWIT0pFOJ"
   },
   "source": [
    "## Call the necessary packages\n"
   ]
  },
  {
   "cell_type": "code",
   "execution_count": 1,
   "metadata": {
    "colab": {
     "base_uri": "https://localhost:8080/"
    },
    "id": "40eM9QSs6euI",
    "outputId": "e1f030ee-3e79-473a-e265-9b5518f48bc0"
   },
   "outputs": [
    {
     "ename": "UnicodeDecodeError",
     "evalue": "'utf-8' codec can't decode byte 0xc8 in position 10: invalid continuation byte",
     "output_type": "error",
     "traceback": [
      "\u001b[0;31m---------------------------------------------------------------------------\u001b[0m",
      "\u001b[0;31mUnicodeDecodeError\u001b[0m                        Traceback (most recent call last)",
      "Cell \u001b[0;32mIn[1], line 15\u001b[0m\n\u001b[1;32m      7\u001b[0m \u001b[38;5;28;01mimport\u001b[39;00m \u001b[38;5;21;01mmatplotlib\u001b[39;00m\u001b[38;5;21;01m.\u001b[39;00m\u001b[38;5;21;01mpyplot\u001b[39;00m \u001b[38;5;28;01mas\u001b[39;00m \u001b[38;5;21;01mplt\u001b[39;00m\n\u001b[1;32m     11\u001b[0m \u001b[38;5;28;01mimport\u001b[39;00m \u001b[38;5;21;01mmatplotlib\u001b[39;00m\u001b[38;5;21;01m.\u001b[39;00m\u001b[38;5;21;01mpyplot\u001b[39;00m \u001b[38;5;28;01mas\u001b[39;00m \u001b[38;5;21;01mplt\u001b[39;00m\n\u001b[0;32m---> 15\u001b[0m bank01\u001b[38;5;241m=\u001b[39mpd\u001b[38;5;241m.\u001b[39mread_csv(\u001b[38;5;124m'\u001b[39m\u001b[38;5;124m/Users/Mini/Desktop/bank01.csv\u001b[39m\u001b[38;5;124m'\u001b[39m)\n\u001b[1;32m     16\u001b[0m bank01\u001b[38;5;241m.\u001b[39mcolumns\n\u001b[1;32m     18\u001b[0m mylist\u001b[38;5;241m=\u001b[39m[\u001b[38;5;124m'\u001b[39m\u001b[38;5;124mrfm1\u001b[39m\u001b[38;5;124m'\u001b[39m, \u001b[38;5;124m'\u001b[39m\u001b[38;5;124mrfm5\u001b[39m\u001b[38;5;124m'\u001b[39m,\u001b[38;5;124m'\u001b[39m\u001b[38;5;124mrfm8\u001b[39m\u001b[38;5;124m'\u001b[39m]\n",
      "File \u001b[0;32m~/anaconda3/lib/python3.11/site-packages/pandas/io/parsers/readers.py:912\u001b[0m, in \u001b[0;36mread_csv\u001b[0;34m(filepath_or_buffer, sep, delimiter, header, names, index_col, usecols, dtype, engine, converters, true_values, false_values, skipinitialspace, skiprows, skipfooter, nrows, na_values, keep_default_na, na_filter, verbose, skip_blank_lines, parse_dates, infer_datetime_format, keep_date_col, date_parser, date_format, dayfirst, cache_dates, iterator, chunksize, compression, thousands, decimal, lineterminator, quotechar, quoting, doublequote, escapechar, comment, encoding, encoding_errors, dialect, on_bad_lines, delim_whitespace, low_memory, memory_map, float_precision, storage_options, dtype_backend)\u001b[0m\n\u001b[1;32m    899\u001b[0m kwds_defaults \u001b[38;5;241m=\u001b[39m _refine_defaults_read(\n\u001b[1;32m    900\u001b[0m     dialect,\n\u001b[1;32m    901\u001b[0m     delimiter,\n\u001b[0;32m   (...)\u001b[0m\n\u001b[1;32m    908\u001b[0m     dtype_backend\u001b[38;5;241m=\u001b[39mdtype_backend,\n\u001b[1;32m    909\u001b[0m )\n\u001b[1;32m    910\u001b[0m kwds\u001b[38;5;241m.\u001b[39mupdate(kwds_defaults)\n\u001b[0;32m--> 912\u001b[0m \u001b[38;5;28;01mreturn\u001b[39;00m _read(filepath_or_buffer, kwds)\n",
      "File \u001b[0;32m~/anaconda3/lib/python3.11/site-packages/pandas/io/parsers/readers.py:577\u001b[0m, in \u001b[0;36m_read\u001b[0;34m(filepath_or_buffer, kwds)\u001b[0m\n\u001b[1;32m    574\u001b[0m _validate_names(kwds\u001b[38;5;241m.\u001b[39mget(\u001b[38;5;124m\"\u001b[39m\u001b[38;5;124mnames\u001b[39m\u001b[38;5;124m\"\u001b[39m, \u001b[38;5;28;01mNone\u001b[39;00m))\n\u001b[1;32m    576\u001b[0m \u001b[38;5;66;03m# Create the parser.\u001b[39;00m\n\u001b[0;32m--> 577\u001b[0m parser \u001b[38;5;241m=\u001b[39m TextFileReader(filepath_or_buffer, \u001b[38;5;241m*\u001b[39m\u001b[38;5;241m*\u001b[39mkwds)\n\u001b[1;32m    579\u001b[0m \u001b[38;5;28;01mif\u001b[39;00m chunksize \u001b[38;5;129;01mor\u001b[39;00m iterator:\n\u001b[1;32m    580\u001b[0m     \u001b[38;5;28;01mreturn\u001b[39;00m parser\n",
      "File \u001b[0;32m~/anaconda3/lib/python3.11/site-packages/pandas/io/parsers/readers.py:1407\u001b[0m, in \u001b[0;36mTextFileReader.__init__\u001b[0;34m(self, f, engine, **kwds)\u001b[0m\n\u001b[1;32m   1404\u001b[0m     \u001b[38;5;28mself\u001b[39m\u001b[38;5;241m.\u001b[39moptions[\u001b[38;5;124m\"\u001b[39m\u001b[38;5;124mhas_index_names\u001b[39m\u001b[38;5;124m\"\u001b[39m] \u001b[38;5;241m=\u001b[39m kwds[\u001b[38;5;124m\"\u001b[39m\u001b[38;5;124mhas_index_names\u001b[39m\u001b[38;5;124m\"\u001b[39m]\n\u001b[1;32m   1406\u001b[0m \u001b[38;5;28mself\u001b[39m\u001b[38;5;241m.\u001b[39mhandles: IOHandles \u001b[38;5;241m|\u001b[39m \u001b[38;5;28;01mNone\u001b[39;00m \u001b[38;5;241m=\u001b[39m \u001b[38;5;28;01mNone\u001b[39;00m\n\u001b[0;32m-> 1407\u001b[0m \u001b[38;5;28mself\u001b[39m\u001b[38;5;241m.\u001b[39m_engine \u001b[38;5;241m=\u001b[39m \u001b[38;5;28mself\u001b[39m\u001b[38;5;241m.\u001b[39m_make_engine(f, \u001b[38;5;28mself\u001b[39m\u001b[38;5;241m.\u001b[39mengine)\n",
      "File \u001b[0;32m~/anaconda3/lib/python3.11/site-packages/pandas/io/parsers/readers.py:1679\u001b[0m, in \u001b[0;36mTextFileReader._make_engine\u001b[0;34m(self, f, engine)\u001b[0m\n\u001b[1;32m   1676\u001b[0m     \u001b[38;5;28;01mraise\u001b[39;00m \u001b[38;5;167;01mValueError\u001b[39;00m(msg)\n\u001b[1;32m   1678\u001b[0m \u001b[38;5;28;01mtry\u001b[39;00m:\n\u001b[0;32m-> 1679\u001b[0m     \u001b[38;5;28;01mreturn\u001b[39;00m mapping[engine](f, \u001b[38;5;241m*\u001b[39m\u001b[38;5;241m*\u001b[39m\u001b[38;5;28mself\u001b[39m\u001b[38;5;241m.\u001b[39moptions)\n\u001b[1;32m   1680\u001b[0m \u001b[38;5;28;01mexcept\u001b[39;00m \u001b[38;5;167;01mException\u001b[39;00m:\n\u001b[1;32m   1681\u001b[0m     \u001b[38;5;28;01mif\u001b[39;00m \u001b[38;5;28mself\u001b[39m\u001b[38;5;241m.\u001b[39mhandles \u001b[38;5;129;01mis\u001b[39;00m \u001b[38;5;129;01mnot\u001b[39;00m \u001b[38;5;28;01mNone\u001b[39;00m:\n",
      "File \u001b[0;32m~/anaconda3/lib/python3.11/site-packages/pandas/io/parsers/c_parser_wrapper.py:93\u001b[0m, in \u001b[0;36mCParserWrapper.__init__\u001b[0;34m(self, src, **kwds)\u001b[0m\n\u001b[1;32m     90\u001b[0m \u001b[38;5;28;01mif\u001b[39;00m kwds[\u001b[38;5;124m\"\u001b[39m\u001b[38;5;124mdtype_backend\u001b[39m\u001b[38;5;124m\"\u001b[39m] \u001b[38;5;241m==\u001b[39m \u001b[38;5;124m\"\u001b[39m\u001b[38;5;124mpyarrow\u001b[39m\u001b[38;5;124m\"\u001b[39m:\n\u001b[1;32m     91\u001b[0m     \u001b[38;5;66;03m# Fail here loudly instead of in cython after reading\u001b[39;00m\n\u001b[1;32m     92\u001b[0m     import_optional_dependency(\u001b[38;5;124m\"\u001b[39m\u001b[38;5;124mpyarrow\u001b[39m\u001b[38;5;124m\"\u001b[39m)\n\u001b[0;32m---> 93\u001b[0m \u001b[38;5;28mself\u001b[39m\u001b[38;5;241m.\u001b[39m_reader \u001b[38;5;241m=\u001b[39m parsers\u001b[38;5;241m.\u001b[39mTextReader(src, \u001b[38;5;241m*\u001b[39m\u001b[38;5;241m*\u001b[39mkwds)\n\u001b[1;32m     95\u001b[0m \u001b[38;5;28mself\u001b[39m\u001b[38;5;241m.\u001b[39munnamed_cols \u001b[38;5;241m=\u001b[39m \u001b[38;5;28mself\u001b[39m\u001b[38;5;241m.\u001b[39m_reader\u001b[38;5;241m.\u001b[39munnamed_cols\n\u001b[1;32m     97\u001b[0m \u001b[38;5;66;03m# error: Cannot determine type of 'names'\u001b[39;00m\n",
      "File \u001b[0;32m~/anaconda3/lib/python3.11/site-packages/pandas/_libs/parsers.pyx:550\u001b[0m, in \u001b[0;36mpandas._libs.parsers.TextReader.__cinit__\u001b[0;34m()\u001b[0m\n",
      "File \u001b[0;32m~/anaconda3/lib/python3.11/site-packages/pandas/_libs/parsers.pyx:639\u001b[0m, in \u001b[0;36mpandas._libs.parsers.TextReader._get_header\u001b[0;34m()\u001b[0m\n",
      "File \u001b[0;32m~/anaconda3/lib/python3.11/site-packages/pandas/_libs/parsers.pyx:850\u001b[0m, in \u001b[0;36mpandas._libs.parsers.TextReader._tokenize_rows\u001b[0;34m()\u001b[0m\n",
      "File \u001b[0;32m~/anaconda3/lib/python3.11/site-packages/pandas/_libs/parsers.pyx:861\u001b[0m, in \u001b[0;36mpandas._libs.parsers.TextReader._check_tokenize_status\u001b[0;34m()\u001b[0m\n",
      "File \u001b[0;32m~/anaconda3/lib/python3.11/site-packages/pandas/_libs/parsers.pyx:2021\u001b[0m, in \u001b[0;36mpandas._libs.parsers.raise_parser_error\u001b[0;34m()\u001b[0m\n",
      "\u001b[0;31mUnicodeDecodeError\u001b[0m: 'utf-8' codec can't decode byte 0xc8 in position 10: invalid continuation byte"
     ]
    }
   ],
   "source": [
    "import pandas as pd\n",
    "import numpy as np\n",
    "\n",
    "\n",
    "\n",
    "import seaborn as sns\n",
    "import matplotlib.pyplot as plt\n",
    "\n",
    "\n",
    "\n",
    "import matplotlib.pyplot as plt\n",
    "\n",
    "\n",
    "\n",
    "bank01=pd.read_csv('/Users/Mini/Desktop/bank01.csv')\n",
    "bank01.columns\n",
    "\n",
    "mylist=['rfm1', 'rfm5','rfm8']\n"
   ]
  },
  {
   "cell_type": "markdown",
   "metadata": {
    "id": "W7MUDK5kjsqQ"
   },
   "source": [
    "## Task 1\n",
    "Your task is to conduct a thorough inspection of each variable in the dataset, keeping in mind the expected values outlined in the data dictionary. Without modifying the data, write a summary that highlights any issues you find for each variable. For example, if there are incorrectly entered 'NA' values, numbers that fall outside the expected range, or any other data inconsistencies, please note these in your response to question 1. Conversely, if a variable appears to have no issues with its data entries, simply state that there are no observed issues with that particular variable."
   ]
  },
  {
   "cell_type": "code",
   "execution_count": 3,
   "metadata": {
    "colab": {
     "base_uri": "https://localhost:8080/"
    },
    "id": "b39N8L3llYdO",
    "outputId": "846e2398-7ea3-4743-cf61-501af600710e"
   },
   "outputs": [
    {
     "name": "stdout",
     "output_type": "stream",
     "text": [
      "                 NAs  Negatives  Non-numeric Entries\n",
      "rfm1               0          0                    3\n",
      "rfm2               0          0                    0\n",
      "rfm3            9912          0                    0\n",
      "rfm4               0          0                    0\n",
      "rfm5               0          0                    0\n",
      "rfm6               0          0                    0\n",
      "rfm7               0          0                    0\n",
      "rfm8               0          0                    0\n",
      "rfm9               0          0                    0\n",
      "rfm10              0          0                    0\n",
      "rfm11              0          0                    0\n",
      "rfm12              0          0                    0\n",
      "int_tgt            0         21                    0\n",
      "demog_age      31611          3                    0\n",
      "demog_homeval      0          1                    1\n",
      "demog_inc          0          0                    0\n",
      "demog_pr           0          0                    0\n",
      "\n",
      "Invalid entries in demog_genf: 3\n",
      "Invalid entries in demog_genm: 4\n",
      "Invalid entries in demog_ho: 0\n",
      "Total number of entries where demog_pr is more than 100: 0\n",
      "Total number of entries where demog_age is more than 130: 2\n"
     ]
    },
    {
     "data": {
      "text/plain": [
       "Index(['int_tgt', 'demog_age', 'demog_ho', 'demog_homeval', 'demog_inc',\n",
       "       'demog_pr', 'rfm1', 'rfm2', 'rfm3', 'rfm4', 'rfm5', 'rfm6', 'rfm7',\n",
       "       'rfm8', 'rfm9', 'rfm10', 'rfm11', 'rfm12', 'demog_genf', 'demog_genm'],\n",
       "      dtype='object')"
      ]
     },
     "execution_count": 3,
     "metadata": {},
     "output_type": "execute_result"
    }
   ],
   "source": [
    "# If you utilized any coding to answer task 1, please input your code snippets here. Ensure that your codes are error-free when executed.\n",
    "\n",
    "# check for  target variable and rfm1 -rfm12\n",
    "\n",
    "# Function to summarize issues in a column, counting all non-numeric entries\n",
    "def summarize_issues(column):\n",
    "    is_numeric = pd.to_numeric(column, errors='coerce')\n",
    "    has_na = column.isna().sum()\n",
    "    negatives = (is_numeric < 0).sum()\n",
    "    non_numeric_entries = column[is_numeric.isna()].size - has_na  # Count all non-numeric including original NAs\n",
    "    return has_na, negatives, non_numeric_entries\n",
    "\n",
    "# Loop through each RFM column and summarize issues\n",
    "summary = {}\n",
    "for col in ['rfm1', 'rfm2', 'rfm3', 'rfm4', 'rfm5', 'rfm6', 'rfm7', 'rfm8', 'rfm9', 'rfm10', 'rfm11', 'rfm12', 'int_tgt','demog_age', 'demog_homeval', 'demog_inc', 'demog_pr']:\n",
    "    summary[col] = summarize_issues(bank01[col])\n",
    "\n",
    "# Convert summary to DataFrame for better readability\n",
    "summary_df = pd.DataFrame(summary, index=['NAs', 'Negatives', 'Non-numeric Entries']).T\n",
    "print(summary_df)\n",
    "\n",
    "\n",
    "# Check yes not entries\n",
    "\n",
    "\n",
    "\n",
    "\n",
    "def count_invalid_entries(df, columns):\n",
    "    \"\"\"\n",
    "    Counts the number of invalid entries (not \"YES\" or \"NO\") for specified columns in a DataFrame.\n",
    "\n",
    "    Parameters:\n",
    "    - df: pandas DataFrame.\n",
    "    - columns: List of column names to check.\n",
    "\n",
    "    Returns:\n",
    "    - dict: A dictionary with column names as keys and the count of invalid entries as values.\n",
    "    \"\"\"\n",
    "    invalid_counts = {}\n",
    "    for col in columns:\n",
    "        # Filter the DataFrame for the current column where values are not \"YES\" or \"NO\"\n",
    "        # and count those rows\n",
    "        invalid_count = df[~df[col].isin(['yes', 'no'])][col].count()\n",
    "        invalid_counts[col] = invalid_count\n",
    "    return invalid_counts\n",
    "\n",
    "# Assuming bank01 is your DataFrame and it's already defined\n",
    "columns_to_check = ['demog_genf', 'demog_genm', 'demog_ho']\n",
    "invalid_entries_count = count_invalid_entries(bank01, columns_to_check)\n",
    "\n",
    "\n",
    "print()\n",
    "\n",
    "for column, count in invalid_entries_count.items():\n",
    "    print(f\"Invalid entries in {column}: {count}\")\n",
    "\n",
    "\n",
    "\n",
    "filtered_df = bank01[bank01['demog_pr'] > 100]\n",
    "\n",
    "# Get the number of rows in the filtered DataFrame\n",
    "total_entries = filtered_df.shape[0]\n",
    "\n",
    "# Alternatively, you can use len() function\n",
    "# total_entries = len(filtered_df)\n",
    "\n",
    "print(f\"Total number of entries where demog_pr is more than 100: {total_entries}\")\n",
    "\n",
    "\n",
    "\n",
    "\n",
    "\n",
    "filtered_df1 = bank01[bank01['demog_age'] > 130]\n",
    "\n",
    "# Get the number of rows in the filtered DataFrame\n",
    "total_entries1 = filtered_df1.shape[0]\n",
    "\n",
    "\n",
    "\n",
    "print(f\"Total number of entries where demog_age is more than 130: {total_entries1}\")\n",
    "\n",
    "\n",
    "bank01.columns\n",
    "\n"
   ]
  },
  {
   "cell_type": "markdown",
   "metadata": {
    "id": "nWyETPdulyp8"
   },
   "source": [
    "## Task 2\n",
    "\n",
    "Duplicate the original 'bank01' dataset and rename the copy as 'bank_[yourlastname]' (for example, Jane Doe would rename it to 'bank_doe'). Then proceed to make the specified adjustments in your renamed dataset, 'bank_[yourlastname]'\n",
    "\n",
    "\n",
    "* For any data point that falls outside its expected range, label it as missing in the dataset.\n",
    "*  Correct any spelling mistakes you encounter. For example, if the expected values are \"YES\" and \"NO\", but you find variations like \"yes\", \"YESSSS\", or \"YESs\", adjust them all to the standard form, which in this case would be \"YES\".\n",
    "\n",
    "\n",
    "Once you've made the necessary modifications in your dataset, proceed to calculate the number of missing values and the percentage of missing values for each variable. Record your findings in the table provided in the Word document.\n",
    "\n",
    "\n",
    "\n"
   ]
  },
  {
   "cell_type": "code",
   "execution_count": 4,
   "metadata": {
    "colab": {
     "base_uri": "https://localhost:8080/"
    },
    "id": "Ts8NCjSLjrrW",
    "outputId": "7af50d01-0dd5-46ff-c2e0-a7740c9c7d3e"
   },
   "outputs": [
    {
     "name": "stdout",
     "output_type": "stream",
     "text": [
      "               Missing Values  Percentage\n",
      "int_tgt                    21    0.016524\n",
      "demog_age               31616   24.877055\n",
      "demog_ho                    0    0.000000\n",
      "demog_homeval               2    0.001574\n",
      "demog_inc                   0    0.000000\n",
      "demog_pr                    0    0.000000\n",
      "rfm1                        3    0.002361\n",
      "rfm2                        0    0.000000\n",
      "rfm3                     9912    7.799259\n",
      "rfm4                        0    0.000000\n",
      "rfm5                        0    0.000000\n",
      "rfm6                        0    0.000000\n",
      "rfm7                        0    0.000000\n",
      "rfm8                        0    0.000000\n",
      "rfm9                        0    0.000000\n",
      "rfm10                       0    0.000000\n",
      "rfm11                       0    0.000000\n",
      "rfm12                       0    0.000000\n",
      "demog_genf                  0    0.000000\n",
      "demog_genm                  0    0.000000\n"
     ]
    }
   ],
   "source": [
    "# If you utilized any coding to answer task 2, please input your code snippets here. Ensure that your codes are error-free when executed.\n",
    "\n",
    "bank01_leo=bank01.copy()\n",
    "\n",
    "\n",
    "\n",
    "\n",
    "# Function to fix issues in a column by converting non-numeric and negative values to NA\n",
    "def fix_issues(column):\n",
    "    is_numeric = pd.to_numeric(column, errors='coerce')  # Convert to numeric, non-numeric becomes NaN\n",
    "    column_fixed = is_numeric.where(is_numeric >= 0, np.nan)  # Replace negative numbers with NaN\n",
    "    return column_fixed\n",
    "\n",
    "# Apply fixes to each RFM column\n",
    "for col in ['rfm1', 'rfm2', 'rfm3', 'rfm4', 'rfm5', 'rfm6', 'rfm7', 'rfm8', 'rfm9', 'rfm10', 'rfm11', 'rfm12', 'int_tgt','demog_age', 'demog_homeval', 'demog_inc', 'demog_pr']:\n",
    "    bank01_leo[col] = fix_issues(bank01_leo[col])\n",
    "\n",
    "# Optionally, you can re-check the summary to confirm the fixes\n",
    "# (You can rerun the summary part here to see the changes)\n",
    "\n",
    "\n",
    "bank01_leo.loc[bank01_leo['demog_age'] > 130, 'demog_age'] = np.nan\n",
    "bank01_leo.loc[bank01_leo['demog_pr'] > 100, 'demog_pr'] = np.nan\n",
    "\n",
    "\n",
    "\n",
    "bank01_leo['demog_genf'] = bank01_leo['demog_genf'].replace(to_replace=[r'^yes.*', r'^no.*'], value=['yes', 'no'], regex=True)\n",
    "bank01_leo['demog_genm'] = bank01_leo['demog_genm'].replace(to_replace=[r'^yes.*', r'^no.*'], value=['yes', 'no'], regex=True)\n",
    "bank01_leo['demog_ho'] = bank01_leo['demog_ho'].replace(to_replace=[r'^yes.*', r'^no.*'], value=['yes', 'no'], regex=True)\n",
    "\n",
    "\n",
    "# Assuming bank01 is your DataFrame\n",
    "\n",
    "# Calculate the number of missing values for each column\n",
    "missing_values_count = bank01_leo.isna().sum()\n",
    "\n",
    "# Calculate the percentage of missing values for each column\n",
    "missing_values_percentage = (bank01_leo.isna().sum() / len(bank01_leo)) * 100\n",
    "\n",
    "# Combine the counts and percentages into a single DataFrame for a clearer overview\n",
    "missing_values_df = pd.DataFrame({\n",
    "    'Missing Values': missing_values_count,\n",
    "    'Percentage': missing_values_percentage\n",
    "})\n",
    "\n",
    "# Display the DataFrame\n",
    "print(missing_values_df)\n",
    "\n",
    "\n",
    "\n"
   ]
  },
  {
   "cell_type": "markdown",
   "metadata": {
    "id": "TKKipRRPxBFE"
   },
   "source": [
    "# Task 3:  Imputation of Missing Values\n",
    "\n",
    "\n",
    "Dduplicate and modify the 'bank_[yourlastname]' dataset that you saved during Task 2. This new version of the dataset should be named 'bank_[yourlastname]_revised'. For example, if your last name is 'Doe', the new dataset should be named 'bank_doe_revised'. After creating this duplicate, you are to perform a series of data imputation techniques listed below:\n",
    " * For a numerical column with missing values, use the mean of the column to fill in the gaps.\n",
    "* In the case of a categorical column with missing data, use the mode (most frequent value) for imputation. If there are multiple modes, use the first mode to replace missing values.\n",
    "* Once you have completed the data imputation on the 'bank_[yourlastname]_revised' dataset, your next task is to calculate the descriptive statistics for two specific numerical variables (demog_age and rfm1) and a contingency table between two categorical variables (demog_ho and demog_genf). This step serves as a sanity check to ensure the integrity and reasonableness of your imputed data. Enter your findings in the speficied table in the word document provided.\n",
    "\n",
    "\n"
   ]
  },
  {
   "cell_type": "code",
   "execution_count": 5,
   "metadata": {
    "colab": {
     "base_uri": "https://localhost:8080/"
    },
    "id": "bMUsLnOC64xl",
    "outputId": "417fb75e-28a0-4274-92a5-1fe3e0b01c1c"
   },
   "outputs": [
    {
     "name": "stdout",
     "output_type": "stream",
     "text": [
      "           demog_age           rfm1\n",
      "count  127089.000000  127089.000000\n",
      "mean       60.610476      11.375633\n",
      "std        15.009369      10.213179\n",
      "min         0.000000       0.000000\n",
      "25%        53.000000       6.500000\n",
      "50%        60.610476      10.000000\n",
      "75%        72.000000      13.600000\n",
      "max        89.000000     500.000000\n",
      "demog_genf     no    yes\n",
      "demog_ho                \n",
      "no          21774  35575\n",
      "yes         31000  38740\n"
     ]
    },
    {
     "name": "stderr",
     "output_type": "stream",
     "text": [
      "/var/folders/d7/wxs6kkgs7x51wmqhjqjy5l6h0000gn/T/ipykernel_65435/3084965565.py:18: FutureWarning: A value is trying to be set on a copy of a DataFrame or Series through chained assignment using an inplace method.\n",
      "The behavior will change in pandas 3.0. This inplace method will never work because the intermediate object on which we are setting values always behaves as a copy.\n",
      "\n",
      "For example, when doing 'df[col].method(value, inplace=True)', try using 'df.method({col: value}, inplace=True)' or df[col] = df[col].method(value) instead, to perform the operation inplace on the original object.\n",
      "\n",
      "\n",
      "  bank01_leo_revised[column].fillna(mean_value, inplace=True)\n",
      "/var/folders/d7/wxs6kkgs7x51wmqhjqjy5l6h0000gn/T/ipykernel_65435/3084965565.py:23: FutureWarning: A value is trying to be set on a copy of a DataFrame or Series through chained assignment using an inplace method.\n",
      "The behavior will change in pandas 3.0. This inplace method will never work because the intermediate object on which we are setting values always behaves as a copy.\n",
      "\n",
      "For example, when doing 'df[col].method(value, inplace=True)', try using 'df.method({col: value}, inplace=True)' or df[col] = df[col].method(value) instead, to perform the operation inplace on the original object.\n",
      "\n",
      "\n",
      "  bank01_leo_revised[column].fillna(mode_value, inplace=True)\n"
     ]
    }
   ],
   "source": [
    "# If you utilized any coding to answer task 3, please input your code snippets here. Ensure that your codes are error-free when executed.\n",
    "\n",
    "bank01_leo_revised=bank01_leo.copy()\n",
    "\n",
    "bank01_leo_revised['demog_genf'] = bank01_leo_revised['demog_genf'].astype('category')\n",
    "bank01_leo_revised['demog_genm'] = bank01_leo_revised['demog_genm'].astype('category')\n",
    "bank01_leo_revised['demog_ho'] = bank01_leo_revised['demog_ho'].astype('category')\n",
    "\n",
    "\n",
    "\n",
    "# Iterate through each column in DataFrame\n",
    "for column in bank01_leo_revised.columns:\n",
    "    # Check if the column is numerical\n",
    "    if bank01_leo_revised[column].dtype in ['int64', 'float64']:\n",
    "        # Calculate mean of the column excluding NaN values\n",
    "        mean_value = bank01_leo_revised[column].mean()\n",
    "        # Replace NaN with the mean value\n",
    "        bank01_leo_revised[column].fillna(mean_value, inplace=True)\n",
    "    elif bank01_leo_revised[column].dtype == 'category':\n",
    "        # Calculate the mode of the column\n",
    "        mode_value = bank01_leo_revised[column].mode()[0] # In case of multiple modes, .mode()[0] ensures using the first mode\n",
    "        # Replace NaN with the mode value\n",
    "        bank01_leo_revised[column].fillna(mode_value, inplace=True)\n",
    "\n",
    "\n",
    "\n",
    "\n",
    "descriptive_stats = bank01_leo_revised[['demog_age', 'rfm1']].describe()\n",
    "\n",
    "print(descriptive_stats)\n",
    "\n",
    "\n",
    "\n",
    "\n",
    "contingency_table = pd.crosstab(bank01_leo_revised['demog_ho'], bank01_leo_revised['demog_genf'])\n",
    "\n",
    "print(contingency_table)"
   ]
  },
  {
   "cell_type": "markdown",
   "metadata": {
    "id": "UCgZt31JwiGL"
   },
   "source": [
    "# Task 4\n",
    "\n",
    "\n",
    "*   Using Python, calculate the **correlation** between the target variable \"INT_TGT\" and all numeric features in your 'bank_[yourlastname]_revised' dataset. Identify the numeric variable that shows the highest correlation coefficient (in absolute value) with \"INT_TGT\". Then, create a scatter plot in Python to visually represent the relationship between \"INT_TGT\" and this highly correlated numeric variable. After completing your plot, insert it into the left pane of the Word document provided for this assignment.\n",
    "*   Based on the scatter plot you have created, write a brief paragraph discussing your observations. In your analysis, describe the nature of the relationship between the target variable and the numeric variable with the highest correlation coefficient. Is the relationship positive, negative, linear, or non-linear? Provide insights based on the data description and what you can infer from the scatter plot. Your paragraph should offer a clear interpretation of the data visualization, highlighting any notable patterns or trends you observe. Insert your answer to the right pane under Task 4.\n",
    "\n"
   ]
  },
  {
   "cell_type": "code",
   "execution_count": 9,
   "metadata": {},
   "outputs": [
    {
     "data": {
      "text/plain": [
       "int_tgt           float64\n",
       "demog_age         float64\n",
       "demog_ho         category\n",
       "demog_homeval     float64\n",
       "demog_inc         float64\n",
       "demog_pr          float64\n",
       "rfm1              float64\n",
       "rfm2              float64\n",
       "rfm3              float64\n",
       "rfm4              float64\n",
       "rfm5                int64\n",
       "rfm6                int64\n",
       "rfm7                int64\n",
       "rfm8                int64\n",
       "rfm9                int64\n",
       "rfm10               int64\n",
       "rfm11               int64\n",
       "rfm12               int64\n",
       "demog_genf       category\n",
       "demog_genm       category\n",
       "dtype: object"
      ]
     },
     "execution_count": 9,
     "metadata": {},
     "output_type": "execute_result"
    }
   ],
   "source": [
    "bank01_leo_revised.dtypes"
   ]
  },
  {
   "cell_type": "code",
   "execution_count": 10,
   "metadata": {},
   "outputs": [
    {
     "name": "stdout",
     "output_type": "stream",
     "text": [
      "int_tgt          [0.0, 11235.67341895678, 1000.0, 2000.0, 2500....\n",
      "demog_age        [42.0, 39.0, 72.0, 63.0, 60.61047626030396, 53...\n",
      "demog_ho         ['no', 'yes']\n",
      "Categories (2, object): ['no', '...\n",
      "demog_homeval    [90780.0, 191693.0, 141773.0, 35283.0, 500006....\n",
      "demog_inc        [66811.0, 101626.0, 54565.0, 0.0, 86001.0, 727...\n",
      "demog_pr         [0.0, 1.0, 24.0, 22.0, 18.0, 35.0, 42.0, 32.0,...\n",
      "rfm1             [7.4, 5.14, 12.75, 3.67, 15.0, 14.67, 42.5, 8....\n",
      "rfm2             [6.05, 4.88, 9.0, 3.92, 11.8, 14.67, 35.0, 8.5...\n",
      "rfm3             [6.75, 5.0, 14.5, 3.25, 15.0, 12.0, 50.0, 9.0,...\n",
      "rfm4             [10.0, 5.0, 12.0, 15.0, 14.0, 50.0, 7.0, 25.0,...\n",
      "rfm5             [5, 7, 4, 3, 1, 9, 2, 6, 8, 11, 10, 13, 15, 12...\n",
      "rfm6             [40, 8, 11, 27, 3, 14, 4, 2, 6, 17, 5, 25, 15,...\n",
      "rfm7                            [4, 6, 3, 5, 2, 0, 1, 8, 7, 9, 10]\n",
      "rfm8             [22, 7, 5, 16, 2, 1, 9, 0, 6, 3, 13, 15, 4, 10...\n",
      "rfm9             [7, 22, 19, 8, 17, 23, 12, 18, 14, 5, 15, 21, ...\n",
      "rfm10            [28, 12, 14, 13, 15, 27, 9, 16, 6, 4, 11, 17, ...\n",
      "rfm11            [7, 6, 5, 11, 2, 8, 4, 3, 12, 9, 10, 1, 14, 0,...\n",
      "rfm12            [126, 41, 65, 129, 53, 33, 64, 69, 29, 31, 26,...\n",
      "demog_genf       ['yes', 'no']\n",
      "Categories (2, object): ['no', '...\n",
      "demog_genm       ['no', 'yes']\n",
      "Categories (2, object): ['no', '...\n",
      "dtype: object\n"
     ]
    }
   ],
   "source": [
    "unique_values = bank01_leo_revised.apply(pd.Series.unique)\n",
    "print(unique_values)"
   ]
  },
  {
   "cell_type": "code",
   "execution_count": 11,
   "metadata": {
    "colab": {
     "base_uri": "https://localhost:8080/",
     "height": 484
    },
    "id": "9LubfP_e-KZE",
    "outputId": "cbcd9ac0-2bf4-4dee-d05c-90be0e7a9b9a"
   },
   "outputs": [
    {
     "name": "stdout",
     "output_type": "stream",
     "text": [
      "The variable with the highest correlation with INT_TGT is rfm1 (Correlation Coefficient: 0.40519583346868254)\n"
     ]
    },
    {
     "data": {
      "image/png": "[encoded data removed]",
      "text/plain": [
       "<Figure size 1000x600 with 1 Axes>"
      ]
     },
     "metadata": {},
     "output_type": "display_data"
    }
   ],
   "source": [
    "# If you utilized any coding to answer task 4, please input your code snippets here. Ensure that your codes are error-free when executed.\n",
    "\n",
    "numeric_data = bank01_leo_revised.select_dtypes(include='number')\n",
    "corr_matrix = numeric_data.corr()\n",
    "\n",
    "# Calculate correlation matrix\n",
    "# corr_matrix = bank01_leo_revised.corr()\n",
    "\n",
    "# Extract correlations with the target variable 'INT_TGT'\n",
    "int_tgt_corr = corr_matrix['int_tgt']\n",
    "\n",
    "# Remove the correlation of 'INT_TGT' with itself (which is 1)\n",
    "int_tgt_corr = int_tgt_corr.drop('int_tgt', axis=0)\n",
    "\n",
    "# Find the variable with the highest correlation (in absolute value) with 'INT_TGT'\n",
    "highest_corr_variable = int_tgt_corr.abs().idxmax()\n",
    "highest_corr_value = int_tgt_corr[highest_corr_variable]\n",
    "\n",
    "print(f\"The variable with the highest correlation with INT_TGT is {highest_corr_variable} (Correlation Coefficient: {highest_corr_value})\")\n",
    "\n",
    "\n",
    "\n",
    "\n",
    "\n",
    "# Extract 'rfm1' and 'INT_TGT' for plotting\n",
    "x = bank01_leo_revised['rfm1']\n",
    "y = bank01_leo_revised['int_tgt']\n",
    "\n",
    "# Calculate the best-fitted line\n",
    "coefficients = np.polyfit(x, y, 1)  # 1 means linear\n",
    "polynomial = np.poly1d(coefficients)\n",
    "y_fit = polynomial(x)  # Calculate the y values based on the fit\n",
    "\n",
    "# Create the scatter plot\n",
    "plt.figure(figsize=(10, 6))\n",
    "plt.scatter(x, y, color='blue', alpha=0.5, label='Data points')\n",
    "plt.plot(x, y_fit, color='red', label='Best fit line')\n",
    "\n",
    "# Labeling the plot\n",
    "plt.title('Scatter Plot between RFM1 and INT_TGT with Best Fitted Line')\n",
    "plt.xlabel('rfm1')\n",
    "plt.ylabel('int_tgt')\n",
    "plt.legend()\n",
    "\n",
    "# Show the plot\n",
    "plt.show()\n",
    "\n",
    "\n",
    "\n"
   ]
  },
  {
   "cell_type": "markdown",
   "metadata": {
    "id": "zPPJXk1cuvHE"
   },
   "source": [
    "# Task 5: Check for Outliers\n",
    "In this task, you are required to identify outliers in the numerical variables of the 'bank_[yourlastname]_revised' dataset. You will use the Interquartile Range (IQR) method for this purpose. Additionally, you will create box and whisker plots for both the target variable and the numerical variable that shows the highest correlation (in absolute value) with the target variable.\n",
    "* In one approach, outliers are the values that fall below Q1 - 1.5 * IQR or above Q3 + 1.5 * IQR (where Q1 and Q3 are the first and third quartiles, respectively). Identify and list the outliers for each numerical variable and report your findings in the dedicated are in the word document provided. You can  just report the number of outliers detected for each variable.  \n",
    "* Create a box and whisker plot for the target variable in your dataset and insert it intio the word document.\n",
    "* Create a box and whisker plot for the numerical variable which shows the higest correlation (in absolute value) with the target variable and insert it intio the word document.  \n",
    "* What these plots indicate about the distribution of the target variable and the most correlated numerical variable?\n",
    "\n"
   ]
  },
  {
   "cell_type": "code",
   "execution_count": 7,
   "metadata": {
    "colab": {
     "base_uri": "https://localhost:8080/",
     "height": 1000
    },
    "id": "7nE-yeUn-G5h",
    "outputId": "7b8eff7b-404e-470c-c8ad-27ebb68ab42f"
   },
   "outputs": [
    {
     "name": "stdout",
     "output_type": "stream",
     "text": [
      "Number of outliers detected for each numerical variable:\n",
      "int_tgt: 1099\n",
      "demog_age: 2149\n",
      "demog_homeval: 8448\n",
      "demog_inc: 2345\n",
      "demog_pr: 6488\n",
      "rfm1: 5548\n",
      "rfm2: 6636\n",
      "rfm3: 6213\n",
      "rfm4: 3401\n",
      "rfm5: 1493\n",
      "rfm6: 5243\n",
      "rfm7: 310\n",
      "rfm8: 2646\n",
      "rfm9: 19625\n",
      "rfm10: 24607\n",
      "rfm11: 14658\n",
      "rfm12: 44\n"
     ]
    },
    {
     "name": "stderr",
     "output_type": "stream",
     "text": [
      "/var/folders/d7/wxs6kkgs7x51wmqhjqjy5l6h0000gn/T/ipykernel_65435/957546892.py:38: FutureWarning: \n",
      "\n",
      "Passing `palette` without assigning `hue` is deprecated and will be removed in v0.14.0. Assign the `x` variable to `hue` and set `legend=False` for the same effect.\n",
      "\n",
      "  sns.boxplot(data=bank01_leo_revised, y='int_tgt', width=0.3, palette=\"coolwarm\")\n"
     ]
    },
    {
     "data": {
      "image/png": "[encoded data removed]",
      "text/plain": [
       "<Figure size 800x600 with 1 Axes>"
      ]
     },
     "metadata": {},
     "output_type": "display_data"
    },
    {
     "name": "stderr",
     "output_type": "stream",
     "text": [
      "/var/folders/d7/wxs6kkgs7x51wmqhjqjy5l6h0000gn/T/ipykernel_65435/957546892.py:54: FutureWarning: \n",
      "\n",
      "Passing `palette` without assigning `hue` is deprecated and will be removed in v0.14.0. Assign the `x` variable to `hue` and set `legend=False` for the same effect.\n",
      "\n",
      "  sns.boxplot(data=bank01_leo_revised, y='rfm1', width=0.3, palette=\"coolwarm\")\n"
     ]
    },
    {
     "data": {
      "image/png": "[encoded data removed]",
      "text/plain": [
       "<Figure size 800x600 with 1 Axes>"
      ]
     },
     "metadata": {},
     "output_type": "display_data"
    }
   ],
   "source": [
    "# If you utilized any coding to answer task 5, please input your code snippets here. Ensure that your codes are error-free when executed.\n",
    "\n",
    "\n",
    "# Function to calculate and return the number of outliers for a column\n",
    "def find_outliers(column):\n",
    "    q1 = column.quantile(0.25)\n",
    "    q3 = column.quantile(0.75)\n",
    "    iqr = q3 - q1\n",
    "    lower_bound = q1 - 1.5 * iqr\n",
    "    upper_bound = q3 + 1.5 * iqr\n",
    "\n",
    "    # Identifying outliers\n",
    "    outliers = column[(column < lower_bound) | (column > upper_bound)]\n",
    "    return outliers\n",
    "\n",
    "# Iterate over each column in bank01 and find outliers for numerical columns\n",
    "outliers_summary = {}\n",
    "for col in bank01_leo_revised.select_dtypes(include=['float64', 'int64']).columns:\n",
    "    outliers = find_outliers(bank01_leo_revised[col])\n",
    "    outliers_summary[col] = len(outliers)\n",
    "\n",
    "# Reporting the number of outliers detected for each numerical variable\n",
    "print(\"Number of outliers detected for each numerical variable:\")\n",
    "for col, count in outliers_summary.items():\n",
    "    print(f\"{col}: {count}\")\n",
    "\n",
    "\n",
    "\n",
    "\n",
    "\n",
    "# Assuming bank01 is your DataFrame and it's already loaded\n",
    "\n",
    "# Set the style of the visualization\n",
    "sns.set(style=\"whitegrid\")\n",
    "\n",
    "# Create a box plot for 'INT_TGT' with more style\n",
    "plt.figure(figsize=(8, 6))\n",
    "sns.boxplot(data=bank01_leo_revised, y='int_tgt', width=0.3, palette=\"coolwarm\")\n",
    "plt.title('Box Plot of INT_TGT', fontsize=16)\n",
    "plt.ylabel('INT_TGT', fontsize=14)\n",
    "plt.xticks(fontsize=12)\n",
    "plt.yticks(fontsize=12)\n",
    "\n",
    "# Optionally, you can save the plot to a file\n",
    "# plt.savefig('int_tgt_boxplot.png', dpi=300)\n",
    "\n",
    "plt.show()\n",
    "\n",
    "\n",
    "\n",
    "\n",
    "\n",
    "plt.figure(figsize=(8, 6))\n",
    "sns.boxplot(data=bank01_leo_revised, y='rfm1', width=0.3, palette=\"coolwarm\")\n",
    "plt.title('Box Plot of rfm1', fontsize=16)\n",
    "plt.ylabel('rfm1', fontsize=14)\n",
    "plt.xticks(fontsize=12)\n",
    "plt.yticks(fontsize=12)\n",
    "\n",
    "# Optionally, you can save the plot to a file\n",
    "# plt.savefig('int_tgt_boxplot.png', dpi=300)\n",
    "\n",
    "plt.show()\n"
   ]
  },
  {
   "cell_type": "markdown",
   "metadata": {
    "id": "08iNyHunx0U6"
   },
   "source": [
    "## Read the cleaned data to csv for Lab 02"
   ]
  },
  {
   "cell_type": "code",
   "execution_count": 8,
   "metadata": {
    "colab": {
     "base_uri": "https://localhost:8080/"
    },
    "id": "hT2pwSRnxz7f",
    "outputId": "eb96f7d5-1880-4a2c-f59d-effabe8206d4"
   },
   "outputs": [
    {
     "data": {
      "text/plain": [
       "['yes', 'no']\n",
       "Categories (2, object): ['no', 'yes']"
      ]
     },
     "execution_count": 8,
     "metadata": {},
     "output_type": "execute_result"
    }
   ],
   "source": [
    "#for col in bank01_leo_revised.columns:\n",
    " #   print(bank01_leo_revised[col].isna().sum())\n",
    "\n",
    "#bank01_leo_revised.to_csv('bank02.csv', index=False)\n",
    "\n",
    "bank01_leo_revised['demog_genf'].unique()\n"
   ]
  }
 ],
 "metadata": {
  "colab": {
   "provenance": []
  },
  "kernelspec": {
   "display_name": "Python 3 (ipykernel)",
   "language": "python",
   "name": "python3"
  },
  "language_info": {
   "codemirror_mode": {
    "name": "ipython",
    "version": 3
   },
   "file_extension": ".py",
   "mimetype": "text/x-python",
   "name": "python",
   "nbconvert_exporter": "python",
   "pygments_lexer": "ipython3",
   "version": "3.11.5"
  }
 },
 "nbformat": 4,
 "nbformat_minor": 1
}
